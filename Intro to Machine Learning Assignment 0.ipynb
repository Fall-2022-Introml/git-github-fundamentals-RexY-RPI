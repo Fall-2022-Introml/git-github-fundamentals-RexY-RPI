{
 "cells": [
  {
   "cell_type": "markdown",
   "id": "02ad083d",
   "metadata": {},
   "source": [
    "# Manager assigns work"
   ]
  },
  {
   "cell_type": "markdown",
   "id": "730f5072",
   "metadata": {},
   "source": [
    "## Assign Variables & Check"
   ]
  },
  {
   "cell_type": "code",
   "execution_count": 16,
   "id": "1f278293",
   "metadata": {
    "scrolled": true
   },
   "outputs": [
    {
     "name": "stdout",
     "output_type": "stream",
     "text": [
      "Crew Number:\n",
      "100\n",
      "Total Working Tasks:\n",
      "1000\n",
      "Manager:\n",
      "Rex\n"
     ]
    }
   ],
   "source": [
    "crew = 100\n",
    "tasks = 1000\n",
    "name = 'Rex'\n",
    "speed = 10\n",
    "\n",
    "print ('Crew Number:')\n",
    "print (crew)\n",
    "print ('Total Working Tasks:')\n",
    "print (tasks)\n",
    "print ('Manager:')\n",
    "print (name)"
   ]
  },
  {
   "cell_type": "markdown",
   "id": "8af4c1a6",
   "metadata": {},
   "source": [
    "## Calculate the workload for each worker"
   ]
  },
  {
   "cell_type": "code",
   "execution_count": 17,
   "id": "6412fdd4",
   "metadata": {},
   "outputs": [
    {
     "name": "stdout",
     "output_type": "stream",
     "text": [
      "10.0\n"
     ]
    }
   ],
   "source": [
    "workload = tasks/crew\n",
    "print (workload)"
   ]
  },
  {
   "cell_type": "markdown",
   "id": "4be8c12e",
   "metadata": {},
   "source": [
    "## Validation of work efficiency"
   ]
  },
  {
   "cell_type": "code",
   "execution_count": 31,
   "id": "61da336f",
   "metadata": {},
   "outputs": [
    {
     "name": "stdout",
     "output_type": "stream",
     "text": [
      "effective\n"
     ]
    }
   ],
   "source": [
    "efficiency = workload/speed\n",
    "if efficiency >= 1.0:\n",
    "    print ('effective')\n",
    "else:\n",
    "    print ('ineffective')"
   ]
  },
  {
   "cell_type": "code",
   "execution_count": null,
   "id": "303089bc",
   "metadata": {},
   "outputs": [],
   "source": []
  },
  {
   "cell_type": "code",
   "execution_count": null,
   "id": "b663d9d7",
   "metadata": {},
   "outputs": [],
   "source": []
  }
 ],
 "metadata": {
  "kernelspec": {
   "display_name": "Python 3 (ipykernel)",
   "language": "python",
   "name": "python3"
  },
  "language_info": {
   "codemirror_mode": {
    "name": "ipython",
    "version": 3
   },
   "file_extension": ".py",
   "mimetype": "text/x-python",
   "name": "python",
   "nbconvert_exporter": "python",
   "pygments_lexer": "ipython3",
   "version": "3.9.12"
  }
 },
 "nbformat": 4,
 "nbformat_minor": 5
}
